{
 "cells": [
  {
   "cell_type": "markdown",
   "id": "6b733a33",
   "metadata": {},
   "source": [
    "# Data Science Tools and Ecosystem"
   ]
  },
  {
   "cell_type": "markdown",
   "id": "040e61f5",
   "metadata": {},
   "source": [
    "In this notebook, Data Science Tools and Ecosystem are summarized.\n"
   ]
  },
  {
   "cell_type": "markdown",
   "id": "267a8d34",
   "metadata": {},
   "source": [
    "**Objectives**"
   ]
  },
  {
   "cell_type": "markdown",
   "id": "f734781d",
   "metadata": {},
   "source": [
    "- Popular Languages in data science\n",
    "- Some common libraries\n",
    "- Data science tools\n",
    "- Arthmetic Expressions"
   ]
  },
  {
   "cell_type": "markdown",
   "id": "228c653f",
   "metadata": {},
   "source": [
    "Some of the popular languages that Data Scientists use are:"
   ]
  },
  {
   "cell_type": "markdown",
   "id": "24597ef1",
   "metadata": {},
   "source": [
    "1. Python\n",
    "2. R language\n",
    "3. Julia\n",
    "4. JavaScript"
   ]
  },
  {
   "cell_type": "markdown",
   "id": "863ad422",
   "metadata": {},
   "source": [
    "Some of the commonly used libraries used by Data Scientists include:"
   ]
  },
  {
   "cell_type": "markdown",
   "id": "f9c5b64d",
   "metadata": {},
   "source": [
    "1. Pandas\n",
    "2. Numpy\n",
    "3. Matpotlib\n",
    "4. Scikit-Learn"
   ]
  },
  {
   "cell_type": "markdown",
   "id": "2dec1f31",
   "metadata": {},
   "source": [
    "| Data Science Tools|\n",
    "|-------------------|\n",
    "| Anaconda          |\n",
    "| Apache Spark      |\n",
    "| Tensor Flow       |"
   ]
  },
  {
   "cell_type": "code",
   "execution_count": 38,
   "id": "f8da962a",
   "metadata": {},
   "outputs": [
    {
     "data": {
      "text/plain": [
       "'This a simple arithmetic expression to mutiply then add integers.'"
      ]
     },
     "execution_count": 38,
     "metadata": {},
     "output_type": "execute_result"
    }
   ],
   "source": [
    "'This a simple arithmetic expression to mutiply then add integers.'"
   ]
  },
  {
   "cell_type": "code",
   "execution_count": 33,
   "id": "b3d081e1",
   "metadata": {},
   "outputs": [
    {
     "data": {
      "text/plain": [
       "17"
      ]
     },
     "execution_count": 33,
     "metadata": {},
     "output_type": "execute_result"
    }
   ],
   "source": [
    "8+9"
   ]
  },
  {
   "cell_type": "code",
   "execution_count": 43,
   "id": "2cbc919d",
   "metadata": {},
   "outputs": [
    {
     "data": {
      "text/plain": [
       "'This will convert 200 minutes to hours by diving by 60'"
      ]
     },
     "execution_count": 43,
     "metadata": {},
     "output_type": "execute_result"
    }
   ],
   "source": [
    "\"This will convert 200 minutes to hours by diving by 60\""
   ]
  },
  {
   "cell_type": "code",
   "execution_count": 45,
   "id": "0a2c6258",
   "metadata": {},
   "outputs": [
    {
     "data": {
      "text/plain": [
       "3.3333333333333335"
      ]
     },
     "execution_count": 45,
     "metadata": {},
     "output_type": "execute_result"
    }
   ],
   "source": [
    "200/60"
   ]
  },
  {
   "cell_type": "markdown",
   "id": "3bb1ab1f",
   "metadata": {},
   "source": [
    "## Author\n",
    "MubashirAhmed"
   ]
  },
  {
   "cell_type": "code",
   "execution_count": null,
   "id": "ad446311",
   "metadata": {},
   "outputs": [],
   "source": []
  }
 ],
 "metadata": {
  "kernelspec": {
   "display_name": "Python 3 (ipykernel)",
   "language": "python",
   "name": "python3"
  },
  "language_info": {
   "codemirror_mode": {
    "name": "ipython",
    "version": 3
   },
   "file_extension": ".py",
   "mimetype": "text/x-python",
   "name": "python",
   "nbconvert_exporter": "python",
   "pygments_lexer": "ipython3",
   "version": "3.11.5"
  }
 },
 "nbformat": 4,
 "nbformat_minor": 5
}
